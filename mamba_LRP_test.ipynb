{
 "cells": [
  {
   "cell_type": "code",
   "execution_count": null,
   "id": "ee4b58e6",
   "metadata": {},
   "outputs": [],
   "source": [
    "from torchvision import transforms\n",
    "from torch.utils import data\n",
    "import numpy as np"
   ]
  },
  {
   "cell_type": "code",
   "execution_count": null,
   "id": "c48e7bd0",
   "metadata": {},
   "outputs": [],
   "source": [
    "DATASET_ROOT = './CUB/DATASET/CUB_200_2011'\n",
    "DATASET_VALIDATION_RANDOM_SEED = 123\n",
    "BATCH_SIZE = 6\n",
    "DATASET_WORK_NUMBER = 8\n",
    "DATASET_SPLIT_RATIO = 0.9"
   ]
  },
  {
   "cell_type": "markdown",
   "id": "0128ec3c",
   "metadata": {},
   "source": [
    "## Dataset Loading"
   ]
  },
  {
   "cell_type": "code",
   "execution_count": null,
   "id": "60f6fdc4",
   "metadata": {},
   "outputs": [],
   "source": [
    "from DatasetLoader.cub import CUB\n",
    "\n",
    "\n",
    "trans_train = transforms.Compose([\n",
    "    # A SCELTA NOSTRA AUGUMENTATION\n",
    "    # transforms.RandomHorizontalFlip(p=0.5),\n",
    "    # transforms.RandomRotation(30),\n",
    "    \n",
    "    # ATTENZIONE QUA NON DOVREBBE SERIVIRE IL RESIZE (?)\n",
    "    # transforms.RandomResizedCrop(224, scale=(0.7, 1), ratio=(3/4, 4/3)),\n",
    "    transforms.ToTensor(),\n",
    "    transforms.Normalize(mean=[0.485, 0.456, 0.406],\n",
    "                         std=[0.229, 0.224, 0.225])\n",
    "])\n",
    "\n",
    "trans_test = transforms.Compose([\n",
    "    # ATTENZIONE QUA NON DOVREBBE SERIVIRE IL RESIZE (?)\n",
    "    # transforms.Resize(224),\n",
    "    # transforms.CenterCrop(224),\n",
    "    transforms.ToTensor(),\n",
    "    transforms.Normalize(mean=[0.485, 0.456, 0.406],\n",
    "                         std=[0.229, 0.224, 0.225])\n",
    "])\n",
    "\n",
    "# create dataset\n",
    "train_data = CUB(DATASET_ROOT, 'train', DATASET_SPLIT_RATIO, DATASET_VALIDATION_RANDOM_SEED, transform=trans_train)\n",
    "valid_data = CUB(DATASET_ROOT, 'valid', DATASET_SPLIT_RATIO, DATASET_VALIDATION_RANDOM_SEED, transform=trans_test)\n",
    "test_data = CUB(DATASET_ROOT, 'test', 0, 0, transform=trans_test)\n",
    "\n",
    "print(\"Train: {}\".format(len(train_data)))\n",
    "print(\"Valid: {}\".format(len(valid_data)))\n",
    "print(\"Test: {}\".format(len(test_data)))"
   ]
  },
  {
   "cell_type": "code",
   "execution_count": null,
   "id": "1ac59b4c",
   "metadata": {},
   "outputs": [],
   "source": [
    "from matplotlib import pyplot as plt\n",
    "\n",
    "def imshow(image, label, ax=None, normalize=True):\n",
    "    \"\"\"show single along with label on an ax\"\"\"\n",
    "    \n",
    "    if ax is None:\n",
    "        fig, ax = plt.subplots()\n",
    "    image = image.numpy().transpose((1, 2, 0))\n",
    "\n",
    "    if normalize:\n",
    "        mean = np.array([0.485, 0.456, 0.406])\n",
    "        std = np.array([0.229, 0.224, 0.225])\n",
    "        image = std * image + mean\n",
    "        image = np.clip(image, 0, 1)\n",
    "\n",
    "    ax.imshow(image)\n",
    "    ax.spines['top'].set_visible(False)\n",
    "    ax.spines['right'].set_visible(False)\n",
    "    ax.spines['left'].set_visible(False)\n",
    "    ax.spines['bottom'].set_visible(False)\n",
    "    ax.tick_params(axis='both', length=0)\n",
    "    ax.set_xticklabels('')\n",
    "    ax.set_yticklabels('')\n",
    "    ax.set_title(label)\n",
    "\n",
    "    return ax\n",
    "\n",
    "\n",
    "def show_samples(images, labels, nrows=2, ncols=3, title=None, normalize=True):\n",
    "    \"\"\" show multiple samples\n",
    "\n",
    "    args:\n",
    "        nrows (int, optional): number of row\n",
    "        ncols (int, optional): number of column\n",
    "        title (str, optional): title.\n",
    "        normalize (bool, optional): whether the images are normalized\n",
    "    \"\"\"\n",
    "    fig, axes = plt.subplots(nrows, ncols, facecolor='#ffffff', dpi=100)\n",
    "\n",
    "    # .flat: to map samples to multi-dimensional axes\n",
    "    for (ax, image, label) in zip(axes.flat, images, labels):\n",
    "        ax = imshow(image, label, ax, normalize)\n",
    "\n",
    "    fig.suptitle(title)\n",
    "    fig.tight_layout = True\n",
    "    fig.subplots_adjust(top=0.85, hspace=0.3)\n",
    "    plt.show()\n",
    "    "
   ]
  },
  {
   "cell_type": "code",
   "execution_count": null,
   "id": "e7869e36",
   "metadata": {},
   "outputs": [],
   "source": [
    "# show samples\n",
    "train_loader = data.DataLoader(train_data, batch_size=BATCH_SIZE, shuffle=True, drop_last=False)\n",
    "images, labels = next(iter(train_loader))\n",
    "show_samples(images[0:6], labels[0:6], 2, 3, 'SHOW SOME SAMPLES')"
   ]
  },
  {
   "cell_type": "code",
   "execution_count": null,
   "id": "03edb16e",
   "metadata": {},
   "outputs": [],
   "source": [
    "# create dataloader\n",
    "train_loader = data.DataLoader(train_data, batch_size=BATCH_SIZE, shuffle=True, drop_last=False, num_workers=DATASET_WORK_NUMBER)\n",
    "valid_loader = data.DataLoader(valid_data, batch_size=BATCH_SIZE*2, shuffle=False, num_workers=DATASET_WORK_NUMBER)\n",
    "test_loader = data.DataLoader(test_data, batch_size=BATCH_SIZE*2, shuffle=False, num_workers=DATASET_WORK_NUMBER)"
   ]
  }
 ],
 "metadata": {
  "language_info": {
   "name": "python"
  }
 },
 "nbformat": 4,
 "nbformat_minor": 5
}
